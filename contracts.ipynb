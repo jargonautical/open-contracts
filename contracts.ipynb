{
 "cells": [
  {
   "cell_type": "code",
   "execution_count": 2,
   "id": "2bcb59c9-ed60-408d-b6cb-2ddc420357ae",
   "metadata": {},
   "outputs": [
    {
     "name": "stdout",
     "output_type": "stream",
     "text": [
      "<Response [200]>\n"
     ]
    }
   ],
   "source": [
    "url = \"https://spendnetwork.com/consulting-contracts\""
   ]
  },
  {
   "cell_type": "code",
   "execution_count": 25,
   "id": "388ed357-7dfe-4799-ac2f-4f7091ca9b61",
   "metadata": {},
   "outputs": [],
   "source": [
    "import requests\n",
    "from bs4 import BeautifulSoup\n",
    "Nrows = []\n",
    "url = \"https://spendnetwork.com/consulting-contracts/\"\n",
    "page = requests.get(url)\n",
    "soup = BeautifulSoup(page.content, \"html.parser\")\n",
    "rows = soup.find_all(\"tr\") # finds all table rows\n",
    "for row in rows:\n",
    "    outrow = []\n",
    "    for item in row:\n",
    "        outrow.append(item.text)\n",
    "    Nrows.append(outrow)    "
   ]
  },
  {
   "cell_type": "code",
   "execution_count": 26,
   "id": "afb053c6-9125-43e8-a342-e4a3fa86a84f",
   "metadata": {},
   "outputs": [],
   "source": [
    "results = soup.find(id=\"table_1\")\n",
    "#print(results.prettify)\n"
   ]
  },
  {
   "cell_type": "code",
   "execution_count": 27,
   "id": "30798eec-d1d0-40d5-a92a-36864dc93031",
   "metadata": {},
   "outputs": [],
   "source": [
    "import pandas as pd\n",
    "df = pd.DataFrame(Nrows)\n",
    "#df.head()"
   ]
  },
  {
   "cell_type": "code",
   "execution_count": 28,
   "id": "cb129381-ad4d-483c-a7bd-12787de7f693",
   "metadata": {},
   "outputs": [
    {
     "data": {
      "text/plain": [
       "12"
      ]
     },
     "execution_count": 28,
     "metadata": {},
     "output_type": "execute_result"
    }
   ],
   "source": [
    "len(df)"
   ]
  },
  {
   "cell_type": "code",
   "execution_count": 16,
   "id": "9c900b6b-1794-4907-bb23-9efa718aa4ba",
   "metadata": {},
   "outputs": [
    {
     "name": "stdout",
     "output_type": "stream",
     "text": [
      "['Consulting-contracts (3).csv', 'Consulting-contracts (10).csv', 'Consulting-contracts (11).csv', 'Consulting-contracts (2).csv', 'Consulting-contracts (5).csv', 'Consulting-contracts (9).csv', 'Consulting-contracts (8).csv', 'Consulting-contracts (4).csv', 'Consulting-contracts (7).csv', 'Consulting-contracts (6).csv', 'Consulting-contracts (12).csv', 'Consulting-contracts (1).csv', 'Consulting-contracts.csv', 'Brexit contracts (1).csv']\n"
     ]
    }
   ],
   "source": [
    "from os import listdir\n",
    "from os.path import isfile, join\n",
    "mypath = \"contracts/data/\"\n",
    "onlyfiles = [f for f in listdir(mypath) if isfile(join(mypath, f))]\n",
    "print(onlyfiles)"
   ]
  },
  {
   "cell_type": "code",
   "execution_count": 58,
   "id": "190f672d-7e1d-46a8-b7b6-4f49b57010ea",
   "metadata": {
    "tags": []
   },
   "outputs": [],
   "source": [
    "import pandas as pd\n",
    "contracts_df = pd.DataFrame()\n",
    "for file in onlyfiles:\n",
    "    p2f = mypath + file\n",
    "    df = pd.read_csv(p2f)\n",
    "    out_df = pd.concat((contracts_df, df))\n",
    "    contracts_df = out_df    \n"
   ]
  },
  {
   "cell_type": "code",
   "execution_count": 60,
   "id": "2652997a-349d-4661-bc19-6ec45b667c19",
   "metadata": {},
   "outputs": [
    {
     "data": {
      "text/html": [
       "<div>\n",
       "<style scoped>\n",
       "    .dataframe tbody tr th:only-of-type {\n",
       "        vertical-align: middle;\n",
       "    }\n",
       "\n",
       "    .dataframe tbody tr th {\n",
       "        vertical-align: top;\n",
       "    }\n",
       "\n",
       "    .dataframe thead th {\n",
       "        text-align: right;\n",
       "    }\n",
       "</style>\n",
       "<table border=\"1\" class=\"dataframe\">\n",
       "  <thead>\n",
       "    <tr style=\"text-align: right;\">\n",
       "      <th></th>\n",
       "      <th>incremental_id</th>\n",
       "      <th>tender_title</th>\n",
       "      <th>buyer</th>\n",
       "      <th>award_date</th>\n",
       "      <th>award_value</th>\n",
       "      <th>contract_start</th>\n",
       "      <th>contract_end</th>\n",
       "      <th>supplier</th>\n",
       "      <th>source_url</th>\n",
       "    </tr>\n",
       "  </thead>\n",
       "  <tbody>\n",
       "    <tr>\n",
       "      <th>0</th>\n",
       "      <td>4,271</td>\n",
       "      <td>External Audit Services</td>\n",
       "      <td>UNIVERSITY OF LINCOLN</td>\n",
       "      <td>22/07/2022</td>\n",
       "      <td>NaN</td>\n",
       "      <td>NaN</td>\n",
       "      <td>NaN</td>\n",
       "      <td>KPMG LLP</td>\n",
       "      <td>https://www.find-tender.service.gov.uk/Notice/...</td>\n",
       "    </tr>\n",
       "    <tr>\n",
       "      <th>1</th>\n",
       "      <td>3,063</td>\n",
       "      <td>Hera Programme Trainers Phase 4</td>\n",
       "      <td>FOREIGN COMMONWEALTH AND DEVELOPMENT OFFICE</td>\n",
       "      <td>22/07/2022</td>\n",
       "      <td>445000.0</td>\n",
       "      <td>01/08/2022</td>\n",
       "      <td>30/12/2022</td>\n",
       "      <td>ERNST &amp; YOUNG LLP</td>\n",
       "      <td>https://www.contractsfinder.service.gov.uk/Not...</td>\n",
       "    </tr>\n",
       "    <tr>\n",
       "      <th>2</th>\n",
       "      <td>4,248</td>\n",
       "      <td>No matching tender, likely a direct award</td>\n",
       "      <td>NORTHUMBRIA HEALTHCARE NHS FOUNDATION TRUST</td>\n",
       "      <td>21/07/2022</td>\n",
       "      <td>NaN</td>\n",
       "      <td>06/09/2021</td>\n",
       "      <td>06/12/2023</td>\n",
       "      <td>BAIN</td>\n",
       "      <td>https://procontract.due-north.com/ContractsReg...</td>\n",
       "    </tr>\n",
       "    <tr>\n",
       "      <th>3</th>\n",
       "      <td>4,320</td>\n",
       "      <td>No matching tender, likely a direct award</td>\n",
       "      <td>SHEFFIELD HALLAM UNIVERSITY</td>\n",
       "      <td>21/07/2022</td>\n",
       "      <td>875000.0</td>\n",
       "      <td>NaN</td>\n",
       "      <td>NaN</td>\n",
       "      <td>PRICEWATERHOUSECOOPERS LLP</td>\n",
       "      <td>https://www.sell2wales.gov.wales/search/show/s...</td>\n",
       "    </tr>\n",
       "    <tr>\n",
       "      <th>4</th>\n",
       "      <td>4,274</td>\n",
       "      <td>Internal Audit Services</td>\n",
       "      <td>SHEFFIELD HALLAM UNIVERSITY</td>\n",
       "      <td>20/07/2022</td>\n",
       "      <td>NaN</td>\n",
       "      <td>NaN</td>\n",
       "      <td>NaN</td>\n",
       "      <td>PRICEWATERHOUSECOOPERS LLP</td>\n",
       "      <td>https://www.find-tender.service.gov.uk/Notice/...</td>\n",
       "    </tr>\n",
       "    <tr>\n",
       "      <th>...</th>\n",
       "      <td>...</td>\n",
       "      <td>...</td>\n",
       "      <td>...</td>\n",
       "      <td>...</td>\n",
       "      <td>...</td>\n",
       "      <td>...</td>\n",
       "      <td>...</td>\n",
       "      <td>...</td>\n",
       "      <td>...</td>\n",
       "    </tr>\n",
       "    <tr>\n",
       "      <th>351</th>\n",
       "      <td>NaN</td>\n",
       "      <td>FS900089 - PM Implement the IRE/NI Protocol</td>\n",
       "      <td>THE FOOD STANDARDS AGENCY</td>\n",
       "      <td>30/04/2020</td>\n",
       "      <td>44000.0</td>\n",
       "      <td>11/05/2020 12:00 AM</td>\n",
       "      <td>31/03/2022 12:00 AM</td>\n",
       "      <td>NaN</td>\n",
       "      <td>https://www.contractsfinder.service.gov.uk/Not...</td>\n",
       "    </tr>\n",
       "    <tr>\n",
       "      <th>352</th>\n",
       "      <td>NaN</td>\n",
       "      <td>(NU/1573) Supply of Real-Time Test Bed for Mic...</td>\n",
       "      <td>NEWCASTLE UNIVERSITY</td>\n",
       "      <td>20/04/2020</td>\n",
       "      <td>96280.0</td>\n",
       "      <td>21/04/2020 12:00 AM</td>\n",
       "      <td>30/06/2020 12:00 AM</td>\n",
       "      <td>OPAL-RT EUROPE</td>\n",
       "      <td>https://www.contractsfinder.service.gov.uk/Not...</td>\n",
       "    </tr>\n",
       "    <tr>\n",
       "      <th>353</th>\n",
       "      <td>NaN</td>\n",
       "      <td>Supply of Personal Protective Equipment for He...</td>\n",
       "      <td>DEPARTMENT OF HEALTH AND SOCIAL CARE (PPE)</td>\n",
       "      <td>29/03/2020</td>\n",
       "      <td>17322618.0</td>\n",
       "      <td>29/03/2020 12:00 AM</td>\n",
       "      <td>30/09/2021 12:00 AM</td>\n",
       "      <td>WINNER MEDICAL CO., LTD.</td>\n",
       "      <td>https://www.contractsfinder.service.gov.uk/Not...</td>\n",
       "    </tr>\n",
       "    <tr>\n",
       "      <th>354</th>\n",
       "      <td>NaN</td>\n",
       "      <td>Maintaining Pega applications in production an...</td>\n",
       "      <td>HEALTH RESEARCH AUTHORITY (HRA)</td>\n",
       "      <td>28/03/2020</td>\n",
       "      <td>210000.0</td>\n",
       "      <td>NaN</td>\n",
       "      <td>NaN</td>\n",
       "      <td>COGNIZANT WORLDWIDE LIMITED</td>\n",
       "      <td>https://www.digitalmarketplace.service.gov.uk/...</td>\n",
       "    </tr>\n",
       "    <tr>\n",
       "      <th>355</th>\n",
       "      <td>NaN</td>\n",
       "      <td>Ecolabel Extension and Decommissioning</td>\n",
       "      <td>DEFRA NETWORK ETENDERING PORTAL</td>\n",
       "      <td>06/03/2020</td>\n",
       "      <td>27600.0</td>\n",
       "      <td>09/03/2020 12:00 AM</td>\n",
       "      <td>31/12/2020 12:00 AM</td>\n",
       "      <td>OAKDENE HOLLINS</td>\n",
       "      <td>https://www.contractsfinder.service.gov.uk/Not...</td>\n",
       "    </tr>\n",
       "  </tbody>\n",
       "</table>\n",
       "<p>1606 rows × 9 columns</p>\n",
       "</div>"
      ],
      "text/plain": [
       "    incremental_id                                       tender_title  \\\n",
       "0            4,271                            External Audit Services   \n",
       "1            3,063                    Hera Programme Trainers Phase 4   \n",
       "2            4,248          No matching tender, likely a direct award   \n",
       "3            4,320          No matching tender, likely a direct award   \n",
       "4            4,274                            Internal Audit Services   \n",
       "..             ...                                                ...   \n",
       "351            NaN        FS900089 - PM Implement the IRE/NI Protocol   \n",
       "352            NaN  (NU/1573) Supply of Real-Time Test Bed for Mic...   \n",
       "353            NaN  Supply of Personal Protective Equipment for He...   \n",
       "354            NaN  Maintaining Pega applications in production an...   \n",
       "355            NaN             Ecolabel Extension and Decommissioning   \n",
       "\n",
       "                                           buyer  award_date  award_value  \\\n",
       "0                          UNIVERSITY OF LINCOLN  22/07/2022          NaN   \n",
       "1    FOREIGN COMMONWEALTH AND DEVELOPMENT OFFICE  22/07/2022     445000.0   \n",
       "2    NORTHUMBRIA HEALTHCARE NHS FOUNDATION TRUST  21/07/2022          NaN   \n",
       "3                    SHEFFIELD HALLAM UNIVERSITY  21/07/2022     875000.0   \n",
       "4                    SHEFFIELD HALLAM UNIVERSITY  20/07/2022          NaN   \n",
       "..                                           ...         ...          ...   \n",
       "351                    THE FOOD STANDARDS AGENCY  30/04/2020      44000.0   \n",
       "352                         NEWCASTLE UNIVERSITY  20/04/2020      96280.0   \n",
       "353   DEPARTMENT OF HEALTH AND SOCIAL CARE (PPE)  29/03/2020   17322618.0   \n",
       "354              HEALTH RESEARCH AUTHORITY (HRA)  28/03/2020     210000.0   \n",
       "355              DEFRA NETWORK ETENDERING PORTAL  06/03/2020      27600.0   \n",
       "\n",
       "          contract_start         contract_end                     supplier  \\\n",
       "0                    NaN                  NaN                     KPMG LLP   \n",
       "1             01/08/2022           30/12/2022            ERNST & YOUNG LLP   \n",
       "2             06/09/2021           06/12/2023                         BAIN   \n",
       "3                    NaN                  NaN   PRICEWATERHOUSECOOPERS LLP   \n",
       "4                    NaN                  NaN   PRICEWATERHOUSECOOPERS LLP   \n",
       "..                   ...                  ...                          ...   \n",
       "351  11/05/2020 12:00 AM  31/03/2022 12:00 AM                          NaN   \n",
       "352  21/04/2020 12:00 AM  30/06/2020 12:00 AM               OPAL-RT EUROPE   \n",
       "353  29/03/2020 12:00 AM  30/09/2021 12:00 AM     WINNER MEDICAL CO., LTD.   \n",
       "354                  NaN                  NaN  COGNIZANT WORLDWIDE LIMITED   \n",
       "355  09/03/2020 12:00 AM  31/12/2020 12:00 AM              OAKDENE HOLLINS   \n",
       "\n",
       "                                            source_url  \n",
       "0    https://www.find-tender.service.gov.uk/Notice/...  \n",
       "1    https://www.contractsfinder.service.gov.uk/Not...  \n",
       "2    https://procontract.due-north.com/ContractsReg...  \n",
       "3    https://www.sell2wales.gov.wales/search/show/s...  \n",
       "4    https://www.find-tender.service.gov.uk/Notice/...  \n",
       "..                                                 ...  \n",
       "351  https://www.contractsfinder.service.gov.uk/Not...  \n",
       "352  https://www.contractsfinder.service.gov.uk/Not...  \n",
       "353  https://www.contractsfinder.service.gov.uk/Not...  \n",
       "354  https://www.digitalmarketplace.service.gov.uk/...  \n",
       "355  https://www.contractsfinder.service.gov.uk/Not...  \n",
       "\n",
       "[1606 rows x 9 columns]"
      ]
     },
     "execution_count": 60,
     "metadata": {},
     "output_type": "execute_result"
    }
   ],
   "source": [
    "out_df['award_value'].replace(',','', regex=True, inplace=True)\n",
    "out_df['award_value'] = out_df['award_value'].apply(pd.to_numeric,errors='coerce')\n",
    "out_df.replace('NaN','np.nan,inplace=1')"
   ]
  },
  {
   "cell_type": "code",
   "execution_count": 73,
   "id": "ffc71fd9-52ee-44c3-9ffa-29860776848a",
   "metadata": {},
   "outputs": [
    {
     "data": {
      "text/plain": [
       "<AxesSubplot:xlabel='award_date', ylabel='award_value'>"
      ]
     },
     "execution_count": 73,
     "metadata": {},
     "output_type": "execute_result"
    },
    {
     "data": {
      "image/png": "[encoded data removed]",
      "text/plain": [
       "<Figure size 432x288 with 1 Axes>"
      ]
     },
     "metadata": {
      "needs_background": "light"
     },
     "output_type": "display_data"
    }
   ],
   "source": [
    "import matplotlib.pyplot as plt\n",
    "out_df.plot(kind='scatter', x='award_date', y='award_value')"
   ]
  },
  {
   "cell_type": "code",
   "execution_count": 74,
   "id": "23281aa4-cebf-46f1-bb4f-841d5be89c3f",
   "metadata": {},
   "outputs": [],
   "source": [
    "#out_df.hist(column='award_value', by='supplier')"
   ]
  },
  {
   "cell_type": "code",
   "execution_count": null,
   "id": "d5b29c7d-d4d1-4197-a2be-21334a481f30",
   "metadata": {},
   "outputs": [],
   "source": [
    "# beneficial ownership\n",
    "# file in contracts/ownership but too large to open on macbook\n",
    "# try on rog"
   ]
  }
 ],
 "metadata": {
  "kernelspec": {
   "display_name": "Python 3 (ipykernel)",
   "language": "python",
   "name": "python3"
  },
  "language_info": {
   "codemirror_mode": {
    "name": "ipython",
    "version": 3
   },
   "file_extension": ".py",
   "mimetype": "text/x-python",
   "name": "python",
   "nbconvert_exporter": "python",
   "pygments_lexer": "ipython3",
   "version": "3.9.9"
  }
 },
 "nbformat": 4,
 "nbformat_minor": 5
}
